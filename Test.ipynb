{
  "nbformat": 4,
  "nbformat_minor": 0,
  "metadata": {
    "colab": {
      "provenance": []
    },
    "kernelspec": {
      "name": "python3",
      "display_name": "Python 3"
    },
    "language_info": {
      "name": "python"
    }
  },
  "cells": [
    {
      "cell_type": "code",
      "execution_count": null,
      "metadata": {
        "id": "QIQEWjoWwBTY"
      },
      "outputs": [],
      "source": [
        "from ipywidgets import interact\n",
        "%matplotlib inline\n",
        "import matplotlib.pyplot as plt\n",
        "import networkx as nx"
      ]
    },
    {
      "cell_type": "code",
      "source": [
        "def random_lobster(n, m, k, p):\n",
        "    return nx.random_lobster(n, p, p / m)\n",
        "\n",
        "def powerlaw_cluster(n, m, k, p):\n",
        "    return nx.powerlaw_cluster_graph(n, m, p)\n",
        "\n",
        "def erdos_renyi(n, m, k, p):\n",
        "    return nx.erdos_renyi_graph(n, p)\n",
        "\n",
        "def newman_watts_strogatz(n, m, k, p):\n",
        "    return nx.newman_watts_strogatz_graph(n, k, p)\n",
        "\n",
        "def plot_random_graph(n, m, k, p, generator):\n",
        "    g = generator(n, m, k, p)\n",
        "    nx.draw(g)\n",
        "    plt.show()"
      ],
      "metadata": {
        "id": "7MECZlS0wDEl"
      },
      "execution_count": null,
      "outputs": []
    },
    {
      "cell_type": "code",
      "source": [
        "interact(plot_random_graph, n=(2,30), m=(1,10), k=(1,10), p=(0.0, 0.99, 0.001),\n",
        "         generator=[\n",
        "             ('lobster', random_lobster),\n",
        "             ('power law', powerlaw_cluster),\n",
        "             ('Newman-Watts-Strogatz', newman_watts_strogatz),\n",
        "             (u'Erdős-Rényi', erdos_renyi),\n",
        "         ]);"
      ],
      "metadata": {
        "id": "h3WbVl9owEdU"
      },
      "execution_count": null,
      "outputs": []
    }
  ]
}
